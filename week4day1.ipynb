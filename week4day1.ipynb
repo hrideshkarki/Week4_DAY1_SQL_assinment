{
 "cells": [
  {
   "cell_type": "code",
   "execution_count": 25,
   "metadata": {},
   "outputs": [
    {
     "name": "stdout",
     "output_type": "stream",
     "text": [
      "a, c and 3 others like this\n"
     ]
    }
   ],
   "source": [
    "# You probably know the \"like\" system from Facebook and other pages.\n",
    "#People can \"like\" blog posts, pictures or other items.\n",
    "#We want to create the text that should be displayed next to such an item.\n",
    "# Implement the function which takes an array containing the names of people that like an item.\n",
    "# The given array's names will always be valid, and will not contain any numbers or special characters.\n",
    "#  It must return the display text as shown in the examples:\n",
    "# []                                -->  \"no one likes this\"\n",
    "# [\"Peter\"]                         -->  \"Peter likes this\"\n",
    "# [\"Jacob\", \"Alex\"]                 -->  \"Jacob and Alex like this\"\n",
    "# [\"Max\", \"John\", \"Mark\"]           -->  \"Max, John and Mark like this\"\n",
    "# [\"Alex\", \"Jacob\", \"Mark\", \"Max\"]  -->  \"Alex, Jacob and 2 others like this\"\n",
    "# Note: For 4 or more names, the number in \"and 2 others\" simply increases.\n",
    "\n",
    "\n",
    "\n",
    "#take array and see how people are there (count)\n",
    "#if its none no one liked\n",
    "# if 1/2/3 (these names liked it)\n",
    "#if count > 3 (show 2 poeple names and show the remaining count)\n",
    "\n",
    "\n",
    "\n",
    "\n",
    "arr1 = ['a','c','d', 'e', 'f']\n",
    "\n",
    "def Like_counter(arr):\n",
    "    count = len(arr)\n",
    "    if count == 0:\n",
    "        print('No one likes this')\n",
    "        return\n",
    "    \n",
    "    if count == 1:\n",
    "        print(f'{arr[0]} likes this')\n",
    "        return\n",
    "    \n",
    "    if count == 2:\n",
    "        print(f'{arr[0]} and {arr[1]} like this')\n",
    "        return\n",
    "\n",
    "    if count == 3:\n",
    "        print(f'{arr[0]}, {arr[1]} and {arr[2]} like this.')\n",
    "        return\n",
    "    \n",
    "    if count >= 4:\n",
    "        count1 = len(arr) - 2\n",
    "        print(f'{arr[0]}, {arr[1]} and {count1} others like this')\n",
    "        return\n",
    "            \n",
    "  \n",
    "\n",
    "\n",
    "Like_counter(arr1)            \n",
    "            \n",
    "   \n",
    "\n",
    "        \n",
    "\n",
    "\n",
    "\n",
    "\n",
    "\n",
    "\n",
    "\n"
   ]
  },
  {
   "cell_type": "code",
   "execution_count": null,
   "metadata": {},
   "outputs": [],
   "source": []
  }
 ],
 "metadata": {
  "kernelspec": {
   "display_name": "Python 3 (ipykernel)",
   "language": "python",
   "name": "python3"
  },
  "language_info": {
   "codemirror_mode": {
    "name": "ipython",
    "version": 3
   },
   "file_extension": ".py",
   "mimetype": "text/x-python",
   "name": "python",
   "nbconvert_exporter": "python",
   "pygments_lexer": "ipython3",
   "version": "3.9.13"
  }
 },
 "nbformat": 4,
 "nbformat_minor": 4
}
